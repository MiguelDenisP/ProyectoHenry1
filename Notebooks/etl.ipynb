{
 "cells": [
  {
   "cell_type": "markdown",
   "metadata": {},
   "source": [
    "Importe de librerias y carga de datos"
   ]
  },
  {
   "cell_type": "code",
   "execution_count": 1,
   "metadata": {},
   "outputs": [
    {
     "name": "stderr",
     "output_type": "stream",
     "text": [
      "C:\\Users\\migue\\AppData\\Local\\Temp\\ipykernel_14412\\3655119525.py:9: DtypeWarning: Columns (10) have mixed types. Specify dtype option on import or set low_memory=False.\n",
      "  eda = pd.read_csv(r\"C:\\Users\\migue\\OneDrive\\Escritorio\\movies_dataset.csv\")\n"
     ]
    }
   ],
   "source": [
    "import pandas as pd\n",
    "import numpy as np\n",
    "import ast\n",
    "import json\n",
    "import re\n",
    "import datetime as dt\n",
    "\n",
    "\n",
    "eda = pd.read_csv(r\"C:\\Users\\migue\\OneDrive\\Escritorio\\movies_dataset.csv\")"
   ]
  },
  {
   "cell_type": "code",
   "execution_count": 2,
   "metadata": {},
   "outputs": [],
   "source": [
    "# Eliminación primeras columnas que no serán utilizadas\n",
    "columnas_eliminar = ['video', \"imdb_id\", \"adult\", \"original_title\", \"poster_path\", \"homepage\"]\n",
    "eda.drop(columns=columnas_eliminar, inplace=True)\n",
    "\n",
    "# eliminacion de duplicados\n",
    "eda = eda.drop_duplicates()\n",
    "\n",
    "# Se eliminan 87 entradas que no tienen release_date\n",
    "eda.dropna(subset=['release_date'], inplace=True)\n",
    "\n",
    "\n",
    "#Se deciden eliminar las 3 entradas de revenue 0 por data insuficiente\n",
    "eda.dropna(subset=['revenue'], inplace=True)\n",
    "\n",
    "\n",
    "# Creamos columa return (revenue/budget) que dará 0 en caso de no poder realizar la división\n",
    "#primero creamos la función que calculará el return\n",
    "def cal_return(revenue, budget):\n",
    "    if float(budget) == 0:\n",
    "        return 0\n",
    "    else:\n",
    "        return float(revenue)/float(budget)\n",
    "    \n",
    "#creamos nueva columa return\n",
    "eda['return']=eda.apply(lambda row: cal_return(row['revenue'], row['budget']), axis=1)\n",
    "\n",
    "\n",
    "# transformamos las fechas de release_date a datetime\n",
    "eda['release_date']=pd.to_datetime(eda['release_date'])\n",
    "#eda['release_date']=eda['release_date'].dt.strftime('%Y-%m-%d')  #Esto es para volverlo str con formato AAAA-mm-dd\n",
    "\n",
    "# se crea columna 'release_year' donde se alberga solo el año de estreno\n",
    "eda['release_year']=eda['release_date'].dt.year\n",
    "\n",
    "\n",
    "# funcion para obtener el día de la semana dada una fecha AAAA-mm-dd\n",
    "def obtener_dia_semana(fecha):\n",
    "    # Convertir la cadena de fecha en un objeto datetime\n",
    "    fecha_obj = fecha\n",
    "    # Obtener el día de la semana como una cadena\n",
    "    dia_semana = fecha_obj.strftime('%A')\n",
    "    return dia_semana\n",
    "\n",
    "#se crea una columna con los días de estreno\n",
    "eda['release_day']=eda['release_date'].apply(obtener_dia_semana)\n",
    "\n"
   ]
  },
  {
   "cell_type": "code",
   "execution_count": 3,
   "metadata": {},
   "outputs": [],
   "source": [
    "# DESANIDADO DE Genre\n",
    "\n",
    "# Se crea una función que reemplaza las comillas ' por \" para manejar json\n",
    "def reemplazar_comillas(cadena):\n",
    "  return re.sub(r\"'\", '\"', cadena)\n",
    "\n",
    "# Se cambian comillas de columna genres\n",
    "eda['genres'] = eda['genres'].apply(reemplazar_comillas)\n",
    "\n",
    "# Se transforma los datos de str a listas\n",
    "eda['genres'] = eda['genres'].apply(lambda x: json.loads(x))\n",
    "\n",
    "# Se desanidan id y los nombres de la columna genres\n",
    "eda['genres_ids'] = eda['genres'].apply(lambda x: [d['id'] for d in x])\n",
    "eda['genres_names'] = eda['genres'].apply(lambda x: [d['name'] for d in x])"
   ]
  },
  {
   "cell_type": "code",
   "execution_count": 4,
   "metadata": {},
   "outputs": [],
   "source": [
    "# DESANIDADO DE production_companies, production_countries y spoken_language\n",
    "\n",
    "# funcion para formatear las conlumnas con listas de diccionarios\n",
    "def convert_to_list_of_dicts(value):\n",
    "    try:\n",
    "        value = value.strip()\n",
    "        return ast.literal_eval(value)\n",
    "    except (ValueError, SyntaxError):\n",
    "        return [] \n",
    "\n",
    "# Se transforma la columna production_companies y se desanida en id y names\n",
    "eda['production_companies'] = eda['production_companies'].apply(convert_to_list_of_dicts)\n",
    "eda['production_companies_id'] = eda['production_companies'].apply(lambda x: [d['id'] for d in x])\n",
    "eda['production_companies_names'] = eda['production_companies'].apply(lambda x: [d['name'] for d in x])\n",
    "\n",
    "\n",
    "# de la columna production_countries se desanida el codigo iso\n",
    "eda['production_countries'] = eda['production_countries'].apply(convert_to_list_of_dicts)\n",
    "eda['production_countries_iso'] = eda['production_countries'].apply(lambda x: [d['iso_3166_1'] for d in x])\n",
    "eda['production_countries_names'] = eda['production_countries'].apply(lambda x: [d['name'] for d in x])\n",
    "\n",
    "# se transforma la columna spoken_languages a lista de dicc y se desanidan\n",
    "eda['spoken_languages'] = eda['spoken_languages'].apply(convert_to_list_of_dicts)\n",
    "eda['spoken_languages_iso'] = eda['spoken_languages'].apply(lambda x: [d['iso_639_1'] for d in x])\n",
    "eda['spoken_languages_name'] = eda['spoken_languages'].apply(lambda x: [d['name'] for d in x])"
   ]
  },
  {
   "cell_type": "code",
   "execution_count": 5,
   "metadata": {},
   "outputs": [],
   "source": [
    "# DESANIDADO DE belongs_to_collection\n",
    "\n",
    "# Se reemplazan los Nan de belongs_to_collection por dicc vacios\n",
    "#eda['belongs_to_collection']=eda['belongs_to_collection'].fillna('{}') #opcion 1 funciona pero son str y falla luego\n",
    "eda['belongs_to_collection']=eda['belongs_to_collection'].apply(lambda x: ast.literal_eval(x) if pd.notnull(x) else {})\n",
    "\n",
    "# se crean funciones para extraer id y name de los diccionarios\n",
    "def extract_id(row):\n",
    "    try:\n",
    "        return row['id']\n",
    "    except:\n",
    "        return None\n",
    "\n",
    "def extract_name(row):\n",
    "    try:\n",
    "        return row['name']\n",
    "    except:\n",
    "        return None\n",
    "    \n",
    "# se crean nuevas columnas con los id y name extraidos\n",
    "eda['belongs_to_collection_id']=eda['belongs_to_collection'].apply(extract_id)\n",
    "eda['belongs_to_collection_name']=eda['belongs_to_collection'].apply(extract_name)"
   ]
  },
  {
   "cell_type": "code",
   "execution_count": 6,
   "metadata": {},
   "outputs": [],
   "source": [
    "# Se eliminan columnas originales desanidadas\n",
    "\n",
    "# Eliminación columnas desanidadas\n",
    "columnas_eliminar = ['belongs_to_collection', \"genres\", \"production_countries\", \"production_companies\", \"spoken_languages\"]\n",
    "eda.drop(columns=columnas_eliminar, inplace=True)"
   ]
  },
  {
   "cell_type": "markdown",
   "metadata": {},
   "source": [
    "Segundo archivo: credits.csv"
   ]
  },
  {
   "cell_type": "code",
   "execution_count": 7,
   "metadata": {},
   "outputs": [],
   "source": [
    "# Se carga el segundo archivo\n",
    "eda2 = pd.read_csv(r\"C:\\Users\\migue\\OneDrive\\Escritorio\\credits.csv\")"
   ]
  },
  {
   "cell_type": "code",
   "execution_count": 8,
   "metadata": {},
   "outputs": [],
   "source": [
    "# se formatea columna cast y se desanida en los actores/actrices\n",
    "eda2['cast'] = eda2['cast'].apply(convert_to_list_of_dicts)\n",
    "eda2['cast_names'] = eda2['cast'].apply(lambda x: [d['name'] for d in x])\n"
   ]
  },
  {
   "cell_type": "code",
   "execution_count": 9,
   "metadata": {},
   "outputs": [],
   "source": [
    "# se crea una función para extraer director de la columna crew\n",
    "def extraer_nombre_director(lista_diccionarios):\n",
    "  for diccionario in lista_diccionarios:\n",
    "    if diccionario['job'] == 'Director':\n",
    "      return diccionario['name']\n",
    "  return None\n",
    "\n",
    "# Se transforma crew a lista de dicc y se le aplica el extractor de director para crear nueva columna\n",
    "eda2['crew'] = eda2['crew'].apply(convert_to_list_of_dicts)\n",
    "eda2['director_name']=eda2['crew'].apply(extraer_nombre_director)"
   ]
  },
  {
   "cell_type": "code",
   "execution_count": 10,
   "metadata": {},
   "outputs": [],
   "source": [
    "# se eliminan columnas cast y crew originales\n",
    "columnas_eliminar = ['crew', 'cast']\n",
    "eda2.drop(columns=columnas_eliminar, inplace=True)\n"
   ]
  },
  {
   "cell_type": "code",
   "execution_count": 11,
   "metadata": {},
   "outputs": [],
   "source": [
    "# transformamos el dtype de columna 'id' a int64 para poder hacer merge\n",
    "eda['id'] = eda['id'].astype('int64')\n",
    "\n",
    "# Merge de eda y eda2 en un solo df\n",
    "df = eda.merge(eda2, on='id', how='inner')"
   ]
  },
  {
   "cell_type": "code",
   "execution_count": 12,
   "metadata": {},
   "outputs": [],
   "source": [
    "# Finalmente se guarda el dataset desanidado, limpio y filtrado\n",
    "\n",
    "#df.to_csv('limpio1.csv', index=False)"
   ]
  }
 ],
 "metadata": {
  "kernelspec": {
   "display_name": "Python 3",
   "language": "python",
   "name": "python3"
  },
  "language_info": {
   "codemirror_mode": {
    "name": "ipython",
    "version": 3
   },
   "file_extension": ".py",
   "mimetype": "text/x-python",
   "name": "python",
   "nbconvert_exporter": "python",
   "pygments_lexer": "ipython3",
   "version": "3.12.4"
  }
 },
 "nbformat": 4,
 "nbformat_minor": 2
}
