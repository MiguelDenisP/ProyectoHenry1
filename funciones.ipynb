{
 "cells": [
  {
   "cell_type": "code",
   "execution_count": 184,
   "metadata": {},
   "outputs": [],
   "source": [
    "import pandas as pd\n",
    "import numpy as np\n",
    "import datetime\n"
   ]
  },
  {
   "cell_type": "code",
   "execution_count": 185,
   "metadata": {},
   "outputs": [],
   "source": [
    "df = pd.read_csv(r'C:\\Users\\migue\\OneDrive\\Escritorio\\limpio1.csv')"
   ]
  },
  {
   "cell_type": "code",
   "execution_count": 186,
   "metadata": {},
   "outputs": [
    {
     "data": {
      "text/html": [
       "<div>\n",
       "<style scoped>\n",
       "    .dataframe tbody tr th:only-of-type {\n",
       "        vertical-align: middle;\n",
       "    }\n",
       "\n",
       "    .dataframe tbody tr th {\n",
       "        vertical-align: top;\n",
       "    }\n",
       "\n",
       "    .dataframe thead th {\n",
       "        text-align: right;\n",
       "    }\n",
       "</style>\n",
       "<table border=\"1\" class=\"dataframe\">\n",
       "  <thead>\n",
       "    <tr style=\"text-align: right;\">\n",
       "      <th></th>\n",
       "      <th>budget</th>\n",
       "      <th>id</th>\n",
       "      <th>original_language</th>\n",
       "      <th>overview</th>\n",
       "      <th>popularity</th>\n",
       "      <th>release_date</th>\n",
       "      <th>revenue</th>\n",
       "      <th>runtime</th>\n",
       "      <th>status</th>\n",
       "      <th>tagline</th>\n",
       "      <th>...</th>\n",
       "      <th>production_companies_id</th>\n",
       "      <th>production_companies_names</th>\n",
       "      <th>production_countries_iso</th>\n",
       "      <th>production_countries_names</th>\n",
       "      <th>spoken_languages_iso</th>\n",
       "      <th>spoken_languages_name</th>\n",
       "      <th>belongs_to_collection_id</th>\n",
       "      <th>belongs_to_collection_name</th>\n",
       "      <th>cast_names</th>\n",
       "      <th>director_name</th>\n",
       "    </tr>\n",
       "  </thead>\n",
       "  <tbody>\n",
       "    <tr>\n",
       "      <th>0</th>\n",
       "      <td>30000000</td>\n",
       "      <td>862</td>\n",
       "      <td>en</td>\n",
       "      <td>Led by Woody, Andy's toys live happily in his ...</td>\n",
       "      <td>21.946943</td>\n",
       "      <td>1995-10-30</td>\n",
       "      <td>373554033.0</td>\n",
       "      <td>81.0</td>\n",
       "      <td>Released</td>\n",
       "      <td>NaN</td>\n",
       "      <td>...</td>\n",
       "      <td>[3]</td>\n",
       "      <td>['Pixar Animation Studios']</td>\n",
       "      <td>['US']</td>\n",
       "      <td>['United States of America']</td>\n",
       "      <td>['en']</td>\n",
       "      <td>['English']</td>\n",
       "      <td>10194.0</td>\n",
       "      <td>Toy Story Collection</td>\n",
       "      <td>['Tom Hanks', 'Tim Allen', 'Don Rickles', 'Jim...</td>\n",
       "      <td>John Lasseter</td>\n",
       "    </tr>\n",
       "    <tr>\n",
       "      <th>1</th>\n",
       "      <td>65000000</td>\n",
       "      <td>8844</td>\n",
       "      <td>en</td>\n",
       "      <td>When siblings Judy and Peter discover an encha...</td>\n",
       "      <td>17.015539</td>\n",
       "      <td>1995-12-15</td>\n",
       "      <td>262797249.0</td>\n",
       "      <td>104.0</td>\n",
       "      <td>Released</td>\n",
       "      <td>Roll the dice and unleash the excitement!</td>\n",
       "      <td>...</td>\n",
       "      <td>[559, 2550, 10201]</td>\n",
       "      <td>['TriStar Pictures', 'Teitler Film', 'Intersco...</td>\n",
       "      <td>['US']</td>\n",
       "      <td>['United States of America']</td>\n",
       "      <td>['en', 'fr']</td>\n",
       "      <td>['English', 'Français']</td>\n",
       "      <td>NaN</td>\n",
       "      <td>NaN</td>\n",
       "      <td>['Robin Williams', 'Jonathan Hyde', 'Kirsten D...</td>\n",
       "      <td>Joe Johnston</td>\n",
       "    </tr>\n",
       "    <tr>\n",
       "      <th>2</th>\n",
       "      <td>0</td>\n",
       "      <td>15602</td>\n",
       "      <td>en</td>\n",
       "      <td>A family wedding reignites the ancient feud be...</td>\n",
       "      <td>11.712900</td>\n",
       "      <td>1995-12-22</td>\n",
       "      <td>0.0</td>\n",
       "      <td>101.0</td>\n",
       "      <td>Released</td>\n",
       "      <td>Still Yelling. Still Fighting. Still Ready for...</td>\n",
       "      <td>...</td>\n",
       "      <td>[6194, 19464]</td>\n",
       "      <td>['Warner Bros.', 'Lancaster Gate']</td>\n",
       "      <td>['US']</td>\n",
       "      <td>['United States of America']</td>\n",
       "      <td>['en']</td>\n",
       "      <td>['English']</td>\n",
       "      <td>119050.0</td>\n",
       "      <td>Grumpy Old Men Collection</td>\n",
       "      <td>['Walter Matthau', 'Jack Lemmon', 'Ann-Margret...</td>\n",
       "      <td>Howard Deutch</td>\n",
       "    </tr>\n",
       "  </tbody>\n",
       "</table>\n",
       "<p>3 rows × 27 columns</p>\n",
       "</div>"
      ],
      "text/plain": [
       "     budget     id original_language  \\\n",
       "0  30000000    862                en   \n",
       "1  65000000   8844                en   \n",
       "2         0  15602                en   \n",
       "\n",
       "                                            overview  popularity release_date  \\\n",
       "0  Led by Woody, Andy's toys live happily in his ...   21.946943   1995-10-30   \n",
       "1  When siblings Judy and Peter discover an encha...   17.015539   1995-12-15   \n",
       "2  A family wedding reignites the ancient feud be...   11.712900   1995-12-22   \n",
       "\n",
       "       revenue  runtime    status  \\\n",
       "0  373554033.0     81.0  Released   \n",
       "1  262797249.0    104.0  Released   \n",
       "2          0.0    101.0  Released   \n",
       "\n",
       "                                             tagline  ...  \\\n",
       "0                                                NaN  ...   \n",
       "1          Roll the dice and unleash the excitement!  ...   \n",
       "2  Still Yelling. Still Fighting. Still Ready for...  ...   \n",
       "\n",
       "  production_companies_id                         production_companies_names  \\\n",
       "0                     [3]                        ['Pixar Animation Studios']   \n",
       "1      [559, 2550, 10201]  ['TriStar Pictures', 'Teitler Film', 'Intersco...   \n",
       "2           [6194, 19464]                 ['Warner Bros.', 'Lancaster Gate']   \n",
       "\n",
       "   production_countries_iso    production_countries_names  \\\n",
       "0                    ['US']  ['United States of America']   \n",
       "1                    ['US']  ['United States of America']   \n",
       "2                    ['US']  ['United States of America']   \n",
       "\n",
       "   spoken_languages_iso    spoken_languages_name belongs_to_collection_id  \\\n",
       "0                ['en']              ['English']                  10194.0   \n",
       "1          ['en', 'fr']  ['English', 'Français']                      NaN   \n",
       "2                ['en']              ['English']                 119050.0   \n",
       "\n",
       "  belongs_to_collection_name  \\\n",
       "0       Toy Story Collection   \n",
       "1                        NaN   \n",
       "2  Grumpy Old Men Collection   \n",
       "\n",
       "                                          cast_names  director_name  \n",
       "0  ['Tom Hanks', 'Tim Allen', 'Don Rickles', 'Jim...  John Lasseter  \n",
       "1  ['Robin Williams', 'Jonathan Hyde', 'Kirsten D...   Joe Johnston  \n",
       "2  ['Walter Matthau', 'Jack Lemmon', 'Ann-Margret...  Howard Deutch  \n",
       "\n",
       "[3 rows x 27 columns]"
      ]
     },
     "execution_count": 186,
     "metadata": {},
     "output_type": "execute_result"
    }
   ],
   "source": [
    "df.head(3)"
   ]
  },
  {
   "cell_type": "code",
   "execution_count": 187,
   "metadata": {},
   "outputs": [],
   "source": [
    "# funcion para obtener el día de la semana dada una fecha AAAA-mm-dd\n",
    "def obtener_dia_semana(fecha):\n",
    "    # Convertir la cadena de fecha en un objeto datetime\n",
    "    fecha_obj = datetime.datetime.strptime(fecha, '%Y-%m-%d')\n",
    "    # Obtener el día de la semana como una cadena (Monday, Tuesday, etc.)\n",
    "    dia_semana = fecha_obj.strftime('%A')\n",
    "    return dia_semana\n",
    "\n",
    "\n",
    "# creo columna con los días de estreno\n",
    "df['release_day']=df['release_date'].apply(obtener_dia_semana)\n"
   ]
  },
  {
   "cell_type": "code",
   "execution_count": 188,
   "metadata": {},
   "outputs": [],
   "source": [
    "# definimos funcion que entrega cantidad de peliculas estrenadas en cierto dia\n",
    "def cantidad_filmaciones_dia(dia):\n",
    "    if dia=='Lunes':\n",
    "        dia1 = 'Monday'\n",
    "    elif dia =='Martes':\n",
    "        dia1= 'Tuesday'\n",
    "    elif dia =='Miercoles':\n",
    "        dia1= 'Wednesday'\n",
    "    elif dia =='Jueves':\n",
    "        dia1= 'Thursday'\n",
    "    elif dia =='Viernes':\n",
    "        dia1= 'Friday'\n",
    "    elif dia =='Sabado':\n",
    "        dia1= 'Saturday'\n",
    "    elif dia =='Domingo':\n",
    "        dia1= 'Sunday'\n",
    "    else: \n",
    "        print('debe colocar un dia de la semana en español con mayuscula y sin tilde')\n",
    "    \n",
    "    df_dia = df[df['release_day']==dia1]\n",
    "    cantidad_peliculas = df_dia.shape[0]\n",
    "\n",
    "    print(f'{cantidad_peliculas} cantidad de peliculas fueron estrenadas en los días {dia}')\n",
    "    \n"
   ]
  },
  {
   "cell_type": "code",
   "execution_count": 189,
   "metadata": {},
   "outputs": [
    {
     "name": "stdout",
     "output_type": "stream",
     "text": [
      "4644 cantidad de peliculas fueron estrenadas en los días Martes\n"
     ]
    }
   ],
   "source": [
    "cantidad_filmaciones_dia('Martes')"
   ]
  },
  {
   "cell_type": "code",
   "execution_count": 190,
   "metadata": {},
   "outputs": [],
   "source": [
    "def cantidad_filmaciones_mes(mes):\n",
    "    if mes == 'Enero':\n",
    "        mes1 = 1\n",
    "    elif mes == 'Febrero':\n",
    "        mes1 = 2\n",
    "    elif mes == 'Marzo':\n",
    "        mes1 = 3\n",
    "    elif mes == 'Abril':\n",
    "        mes1 = 4\n",
    "    elif mes == 'Mayo':\n",
    "        mes1 = 5\n",
    "    elif mes == 'Junio':\n",
    "        mes1 = 6\n",
    "    elif mes == 'Julio':\n",
    "        mes1 = 7\n",
    "    elif mes == 'Agosto':\n",
    "        mes1 = 8\n",
    "    elif mes == 'Septiembre':\n",
    "        mes1 = 9\n",
    "    elif mes == 'Octubre':\n",
    "        mes1 = 10\n",
    "    elif mes == 'Noviembre':\n",
    "        mes1 = 11\n",
    "    elif mes == 'Diciembre':\n",
    "        mes1 = 12\n",
    "    else:\n",
    "        print('debe colocar un mes correcto en español con mayuscula y sin tilde')\n",
    "\n",
    "    df['release_date']=pd.to_datetime(df['release_date'])\n",
    "    df[\"mes\"] = df[\"release_date\"].dt.month\n",
    "    peliculas_mes = df[df[\"mes\"] == mes1]\n",
    "    numero_peliculas = peliculas_mes.shape[0]\n",
    "\n",
    "    print(f'{numero_peliculas} cantidad de peliculas fueron estrenadas en el mes {mes}')\n",
    "    \n"
   ]
  },
  {
   "cell_type": "code",
   "execution_count": 197,
   "metadata": {},
   "outputs": [
    {
     "name": "stdout",
     "output_type": "stream",
     "text": [
      "3158 cantidad de peliculas fueron estrenadas en el mes Junio\n"
     ]
    }
   ],
   "source": [
    "cantidad_filmaciones_mes('Junio')"
   ]
  },
  {
   "cell_type": "code",
   "execution_count": 191,
   "metadata": {},
   "outputs": [
    {
     "data": {
      "text/plain": [
       "0                          Toy Story\n",
       "1                            Jumanji\n",
       "2                   Grumpier Old Men\n",
       "3                  Waiting to Exhale\n",
       "4        Father of the Bride Part II\n",
       "                    ...             \n",
       "45446                     Robin Hood\n",
       "45447            Century of Birthing\n",
       "45448                       Betrayal\n",
       "45449               Satan Triumphant\n",
       "45450                       Queerama\n",
       "Name: title, Length: 45451, dtype: object"
      ]
     },
     "execution_count": 191,
     "metadata": {},
     "output_type": "execute_result"
    }
   ],
   "source": [
    "df['title']"
   ]
  },
  {
   "cell_type": "code",
   "execution_count": 192,
   "metadata": {},
   "outputs": [],
   "source": [
    "def score_titulo(titulo):\n",
    "    df_titulo = df[df['title']==titulo]\n",
    "    anio = df_titulo['release_year'].values[0]\n",
    "    score = df_titulo['popularity'].values[0]\n",
    "\n",
    "    print(f'La pelicula {titulo} fue estrenada en el año {anio} con un score/popularidad de {score}')"
   ]
  },
  {
   "cell_type": "code",
   "execution_count": 196,
   "metadata": {},
   "outputs": [
    {
     "name": "stdout",
     "output_type": "stream",
     "text": [
      "La pelicula Toy Story fue estrenada en el año 1995 con un score/popularidad de 21.946943\n"
     ]
    }
   ],
   "source": [
    "score_titulo('Toy Story')"
   ]
  },
  {
   "cell_type": "code",
   "execution_count": 193,
   "metadata": {},
   "outputs": [],
   "source": [
    "def votos_titulo(titulo):\n",
    "    if df['vote_count'].values[0]<2000:\n",
    "        print ('La pelicula tiene menos de 2000 valoraciones. No se devuelve votos')\n",
    "    else:\n",
    "        df_titulo= df[df['title']==titulo]\n",
    "        anio = df_titulo['release_year'].values[0]\n",
    "        conteo = df_titulo['vote_count'].values[0]\n",
    "        puntaje = df_titulo['vote_average'].values[0]\n",
    "        print(f'La pelicula {titulo} fue estrenada en el año {anio}. La misma cuenta con {conteo} valoraciones, con un promedio de {puntaje}')"
   ]
  },
  {
   "cell_type": "code",
   "execution_count": 194,
   "metadata": {},
   "outputs": [
    {
     "name": "stdout",
     "output_type": "stream",
     "text": [
      "La pelicula Jumanji fue estrenada en el año 1995. La misma cuenta con 2413.0 valoraciones, con un promedio de 6.9\n"
     ]
    }
   ],
   "source": [
    "votos_titulo('Jumanji')"
   ]
  },
  {
   "cell_type": "code",
   "execution_count": 195,
   "metadata": {},
   "outputs": [
    {
     "data": {
      "text/plain": [
       "0        ['Tom Hanks', 'Tim Allen', 'Don Rickles', 'Jim...\n",
       "1        ['Robin Williams', 'Jonathan Hyde', 'Kirsten D...\n",
       "2        ['Walter Matthau', 'Jack Lemmon', 'Ann-Margret...\n",
       "3        ['Whitney Houston', 'Angela Bassett', 'Loretta...\n",
       "4        ['Steve Martin', 'Diane Keaton', 'Martin Short...\n",
       "                               ...                        \n",
       "45446    ['Patrick Bergin', 'Uma Thurman', 'David Morri...\n",
       "45447    ['Angel Aquino', 'Perry Dizon', 'Hazel Orencio...\n",
       "45448    ['Erika Eleniak', 'Adam Baldwin', 'Julie du Pa...\n",
       "45449    ['Iwan Mosschuchin', 'Nathalie Lissenko', 'Pav...\n",
       "45450                                                   []\n",
       "Name: cast_names, Length: 45451, dtype: object"
      ]
     },
     "execution_count": 195,
     "metadata": {},
     "output_type": "execute_result"
    }
   ],
   "source": [
    "df['cast_names']"
   ]
  }
 ],
 "metadata": {
  "kernelspec": {
   "display_name": "Python 3",
   "language": "python",
   "name": "python3"
  },
  "language_info": {
   "codemirror_mode": {
    "name": "ipython",
    "version": 3
   },
   "file_extension": ".py",
   "mimetype": "text/x-python",
   "name": "python",
   "nbconvert_exporter": "python",
   "pygments_lexer": "ipython3",
   "version": "3.12.4"
  }
 },
 "nbformat": 4,
 "nbformat_minor": 2
}
